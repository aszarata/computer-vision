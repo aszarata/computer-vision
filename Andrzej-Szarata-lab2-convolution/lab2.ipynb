{
 "cells": [
  {
   "cell_type": "code",
   "execution_count": 1,
   "metadata": {
    "ExecuteTime": {
     "end_time": "2024-10-30T15:34:02.665603Z",
     "start_time": "2024-10-30T15:34:02.660605Z"
    },
    "id": "QB7f3084tm6F"
   },
   "outputs": [],
   "source": [
    "import torch\n",
    "import torchvision\n",
    "import torch.nn as nn\n",
    "import matplotlib.pyplot as plt\n",
    "import torchvision.transforms as transforms\n",
    "import numpy as np"
   ]
  },
  {
   "cell_type": "code",
   "execution_count": 2,
   "metadata": {
    "colab": {
     "base_uri": "https://localhost:8080/"
    },
    "id": "X4qlwK2Xtm6G",
    "outputId": "670d88f5-ce6b-42b1-81f4-8ee70df38f57"
   },
   "outputs": [
    {
     "name": "stdout",
     "output_type": "stream",
     "text": [
      "cpu\n"
     ]
    }
   ],
   "source": [
    "if torch.cuda.is_available():\n",
    "    device = torch.device(\"cuda:0\")\n",
    "elif torch.backends.mps.is_available():\n",
    "    device = torch.device(\"mps\")\n",
    "else:\n",
    "    device = torch.device(\"cpu\")\n",
    "\n",
    "print(device)"
   ]
  },
  {
   "cell_type": "code",
   "execution_count": 3,
   "metadata": {
    "ExecuteTime": {
     "end_time": "2024-10-30T15:30:19.734655Z",
     "start_time": "2024-10-30T15:30:19.731913Z"
    },
    "id": "9VeP3rR2tm6G"
   },
   "outputs": [],
   "source": [
    "def show_tensor_image(image, cmap=None, label=None):\n",
    "    permuted = image.permute(1, 2, 0)\n",
    "\n",
    "    plt.imshow(permuted, cmap=cmap)\n",
    "\n",
    "    if label is not None:\n",
    "        plt.title(label)\n",
    "\n",
    "    plt.axis('off')\n",
    "\n",
    "    plt.show()"
   ]
  },
  {
   "cell_type": "markdown",
   "metadata": {
    "id": "fx7euh-Stm6G"
   },
   "source": [
    "1."
   ]
  },
  {
   "cell_type": "code",
   "execution_count": 4,
   "metadata": {
    "ExecuteTime": {
     "end_time": "2024-10-30T15:30:21.114283Z",
     "start_time": "2024-10-30T15:30:19.785054Z"
    },
    "colab": {
     "base_uri": "https://localhost:8080/"
    },
    "id": "0nQ0i-oEtm6H",
    "outputId": "8af7c049-8205-436d-d40c-0e88746a0733"
   },
   "outputs": [
    {
     "name": "stdout",
     "output_type": "stream",
     "text": [
      "Files already downloaded and verified\n",
      "Files already downloaded and verified\n"
     ]
    }
   ],
   "source": [
    "transform = transforms.Compose(\n",
    "    [transforms.ToTensor(),\n",
    "     transforms.Normalize((0.5, 0.5, 0.5), (0.5, 0.5, 0.5))])\n",
    "\n",
    "batch_size = 4\n",
    "validation_split = 0.1\n",
    "\n",
    "# Train + validation\n",
    "trainset = torchvision.datasets.CIFAR10(root='./data', train=True,\n",
    "                                        download=True, transform=transform)\n",
    "\n",
    "train_size = int((1 - validation_split) * len(trainset))\n",
    "val_size = len(trainset) - train_size\n",
    "\n",
    "train_subset, val_subset = torch.utils.data.random_split(trainset, [train_size, val_size])\n",
    "\n",
    "trainloader = torch.utils.data.DataLoader(train_subset, batch_size=batch_size,\n",
    "                                          shuffle=True, num_workers=2)\n",
    "valloader = torch.utils.data.DataLoader(val_subset, batch_size=batch_size,\n",
    "                                        shuffle=True, num_workers=2)\n",
    "\n",
    "# Test\n",
    "testset = torchvision.datasets.CIFAR10(root='./data', train=False,\n",
    "                                       download=True, transform=transform)\n",
    "testloader = torch.utils.data.DataLoader(testset, batch_size=batch_size,\n",
    "                                         shuffle=False, num_workers=2)\n",
    "\n",
    "classes = ('plane', 'car', 'bird', 'cat',\n",
    "           'deer', 'dog', 'frog', 'horse', 'ship', 'truck')\n",
    "\n",
    "num_classes = len(classes)"
   ]
  },
  {
   "cell_type": "code",
   "execution_count": 5,
   "metadata": {
    "ExecuteTime": {
     "end_time": "2024-10-30T15:30:21.340810Z",
     "start_time": "2024-10-30T15:30:21.127119Z"
    },
    "colab": {
     "base_uri": "https://localhost:8080/",
     "height": 1000
    },
    "id": "z0IBhYdCtm6H",
    "outputId": "bcf1c8a7-ce3e-41e4-c21a-672327014595"
   },
   "outputs": [
    {
     "name": "stderr",
     "output_type": "stream",
     "text": [
      "Clipping input data to the valid range for imshow with RGB data ([0..1] for floats or [0..255] for integers).\n"
     ]
    },
    {
     "data": {
      "image/png": "[encoded data removed]",
      "text/plain": [
       "<Figure size 640x480 with 1 Axes>"
      ]
     },
     "metadata": {},
     "output_type": "display_data"
    },
    {
     "name": "stderr",
     "output_type": "stream",
     "text": [
      "Clipping input data to the valid range for imshow with RGB data ([0..1] for floats or [0..255] for integers).\n"
     ]
    },
    {
     "data": {
      "image/png": "[encoded data removed]",
      "text/plain": [
       "<Figure size 640x480 with 1 Axes>"
      ]
     },
     "metadata": {},
     "output_type": "display_data"
    },
    {
     "name": "stderr",
     "output_type": "stream",
     "text": [
      "Clipping input data to the valid range for imshow with RGB data ([0..1] for floats or [0..255] for integers).\n"
     ]
    },
    {
     "data": {
      "image/png": "[encoded data removed]",
      "text/plain": [
       "<Figure size 640x480 with 1 Axes>"
      ]
     },
     "metadata": {},
     "output_type": "display_data"
    },
    {
     "name": "stderr",
     "output_type": "stream",
     "text": [
      "Clipping input data to the valid range for imshow with RGB data ([0..1] for floats or [0..255] for integers).\n"
     ]
    },
    {
     "data": {
      "image/png": "[encoded data removed]",
      "text/plain": [
       "<Figure size 640x480 with 1 Axes>"
      ]
     },
     "metadata": {},
     "output_type": "display_data"
    },
    {
     "name": "stderr",
     "output_type": "stream",
     "text": [
      "Clipping input data to the valid range for imshow with RGB data ([0..1] for floats or [0..255] for integers).\n"
     ]
    },
    {
     "data": {
      "image/png": "[encoded data removed]",
      "text/plain": [
       "<Figure size 640x480 with 1 Axes>"
      ]
     },
     "metadata": {},
     "output_type": "display_data"
    }
   ],
   "source": [
    "for i in range(5):\n",
    "    show_tensor_image(trainset[i][0], label=classes[trainset[i][1]])"
   ]
  },
  {
   "cell_type": "code",
   "execution_count": null,
   "metadata": {
    "ExecuteTime": {
     "end_time": "2024-10-30T15:30:21.356133Z",
     "start_time": "2024-10-30T15:30:21.351716Z"
    },
    "id": "EAne8t1Jtm6H"
   },
   "outputs": [],
   "source": [
    "class Model(nn.Module):\n",
    "    def __init__(self, out_features, dropout_p=0.5):\n",
    "        super().__init__()\n",
    "        self.mlp = nn.Sequential(\n",
    "            nn.Conv2d(in_channels=3, out_channels=8, kernel_size=5, stride=1),\n",
    "            nn.ReLU(),\n",
    "\n",
    "            nn.MaxPool2d(kernel_size=2, stride=2),\n",
    "\n",
    "            nn.Conv2d(in_channels=8, out_channels=60, kernel_size=5, stride=1),\n",
    "            nn.ReLU(),\n",
    "\n",
    "            nn.MaxPool2d(kernel_size=2, stride=2),\n",
    "\n",
    "            nn.Flatten(),\n",
    "\n",
    "            nn.Linear(in_features=32 * 5 * 5, out_features=1024),\n",
    "            nn.Dropout1d(p=dropout_p),\n",
    "            nn.ReLU(),\n",
    "\n",
    "            nn.Linear(in_features=1024, out_features=512),\n",
    "            nn.Dropout1d(p=dropout_p),\n",
    "            nn.ReLU(),\n",
    "\n",
    "            nn.Linear(in_features=512, out_features=out_features),\n",
    "            nn.Softmax(dim=1)\n",
    "        )\n",
    "\n",
    "    def forward(self, x):\n",
    "        return self.mlp(x)"
   ]
  },
  {
   "cell_type": "code",
   "execution_count": 7,
   "metadata": {
    "ExecuteTime": {
     "end_time": "2024-10-30T15:30:21.454211Z",
     "start_time": "2024-10-30T15:30:21.451417Z"
    },
    "id": "nFRV4OxYtm6I"
   },
   "outputs": [],
   "source": [
    "num_epochs = 10\n",
    "dropout_prob = 0.5\n",
    "learning_rate = 1e-3"
   ]
  },
  {
   "cell_type": "code",
   "execution_count": 8,
   "metadata": {
    "ExecuteTime": {
     "end_time": "2024-10-30T15:30:21.406786Z",
     "start_time": "2024-10-30T15:30:21.401899Z"
    },
    "id": "2S4YNhDHtm6I"
   },
   "outputs": [],
   "source": [
    "net = Model(out_features=num_classes, dropout_p=dropout_prob).to(device)\n",
    "\n",
    "criterion = nn.CrossEntropyLoss()\n",
    "optimizer = torch.optim.SGD(net.parameters(), lr=learning_rate, momentum=0.9)"
   ]
  },
  {
   "cell_type": "code",
   "execution_count": 12,
   "metadata": {},
   "outputs": [
    {
     "data": {
      "text/plain": [
       "'rnn_torchviz.png'"
      ]
     },
     "execution_count": 12,
     "metadata": {},
     "output_type": "execute_result"
    }
   ],
   "source": [
    "from torchviz import make_dot\n",
    "\n",
    "Xb, yb = next(iter(trainloader))\n",
    "\n",
    "y = net(Xb)\n",
    "\n",
    "make_dot(y, params=dict(list(net.named_parameters()))).render(\"rnn_torchviz\", format=\"png\")"
   ]
  },
  {
   "cell_type": "code",
   "execution_count": 9,
   "metadata": {
    "ExecuteTime": {
     "end_time": "2024-10-30T15:33:38.790715Z",
     "start_time": "2024-10-30T15:30:21.500942Z"
    },
    "colab": {
     "base_uri": "https://localhost:8080/"
    },
    "id": "j2sWJLcetm6I",
    "outputId": "4d518cc1-b471-45f4-9c37-0389f6060464"
   },
   "outputs": [
    {
     "name": "stdout",
     "output_type": "stream",
     "text": [
      "epoch 0: train loss: 25900.59959793091; validation loss: 2877.154838323593\n",
      "epoch 1: train loss: 25765.111526846886; validation loss: 2810.2467402219772\n",
      "epoch 2: train loss: 25507.96894776821; validation loss: 2745.3896765708923\n",
      "epoch 3: train loss: 25385.103143572807; validation loss: 2713.883710384369\n",
      "epoch 4: train loss: 25317.291846990585; validation loss: 2679.8553006649017\n",
      "epoch 5: train loss: 25239.653164625168; validation loss: 2649.2417660951614\n",
      "epoch 6: train loss: 25215.44338798523; validation loss: 2635.448254466057\n",
      "epoch 7: train loss: 25127.45009469986; validation loss: 2634.4114463329315\n",
      "epoch 8: train loss: 25071.925734996796; validation loss: 2603.7912575006485\n",
      "epoch 9: train loss: 25028.782889723778; validation loss: 2611.1977771520615\n"
     ]
    }
   ],
   "source": [
    "history_train = []\n",
    "history_validation = []\n",
    "for epoch in range(num_epochs):\n",
    "    # train\n",
    "    net.train()\n",
    "\n",
    "    running_loss = 0.0\n",
    "\n",
    "    for X_batch, Y_batch in trainloader:\n",
    "        y_pred = net(X_batch.to(device))\n",
    "\n",
    "        loss = criterion(y_pred, Y_batch.to(device))\n",
    "        loss.backward()\n",
    "\n",
    "        optimizer.step()\n",
    "        optimizer.zero_grad()\n",
    "\n",
    "        running_loss += loss.item()\n",
    "\n",
    "    # test\n",
    "    net.eval()\n",
    "\n",
    "    validation_loss = 0.0\n",
    "\n",
    "    for X_batch, Y_batch in valloader:\n",
    "        y_pred = net(X_batch.to(device))\n",
    "\n",
    "        loss = criterion(y_pred, Y_batch.to(device))\n",
    "        validation_loss += loss.item()\n",
    "\n",
    "\n",
    "    print(f\"epoch {epoch}: train loss: {running_loss}; validation loss: {validation_loss}\")\n",
    "    history_train.append(running_loss)\n",
    "    history_validation.append(validation_loss)"
   ]
  },
  {
   "cell_type": "code",
   "execution_count": 10,
   "metadata": {
    "colab": {
     "base_uri": "https://localhost:8080/",
     "height": 449
    },
    "id": "mrv1DxqMtm6I",
    "outputId": "2cee502b-0fde-471b-f8bd-355431835cb0"
   },
   "outputs": [
    {
     "data": {
      "image/png": "[encoded data removed]",
      "text/plain": [
       "<Figure size 640x480 with 1 Axes>"
      ]
     },
     "metadata": {},
     "output_type": "display_data"
    }
   ],
   "source": [
    "import matplotlib.pyplot as plt\n",
    "\n",
    "def plot_functions(train_losses, val_losses):\n",
    "    x = range(len(train_losses))\n",
    "\n",
    "    plt.plot(x, train_losses, label=\"Train loss\", color=\"blue\")\n",
    "    plt.plot(x, val_losses, label=\"Validation loss\", color=\"red\")\n",
    "\n",
    "    plt.xlabel(\"Epoch\")\n",
    "    plt.ylabel(\"Value\")\n",
    "    plt.legend()\n",
    "\n",
    "    plt.show()\n",
    "\n",
    "\n",
    "plot_functions(history_train, history_validation)\n"
   ]
  },
  {
   "cell_type": "code",
   "execution_count": 11,
   "metadata": {
    "id": "as5nX26Ttm6I"
   },
   "outputs": [],
   "source": [
    "def calculate_accuracy(net):\n",
    "    correct = 0\n",
    "    total = 0\n",
    "    net.eval()\n",
    "\n",
    "    with torch.no_grad():\n",
    "        for X_test_batch, y_test_batch in testloader:\n",
    "            outputs = net(X_test_batch.to(device))\n",
    "            _, predicted = torch.max(outputs.data, 1)\n",
    "            total += y_test_batch.size(0)\n",
    "            correct += (predicted == y_test_batch.to(device)).sum().item()\n",
    "\n",
    "    return correct / total\n"
   ]
  },
  {
   "cell_type": "code",
   "execution_count": 12,
   "metadata": {
    "ExecuteTime": {
     "end_time": "2024-10-30T15:38:01.552845Z",
     "start_time": "2024-10-30T15:38:01.273967Z"
    },
    "colab": {
     "base_uri": "https://localhost:8080/"
    },
    "id": "M8asyyZgtm6I",
    "outputId": "9efa52fa-9421-4596-9ee5-3b73744d2237"
   },
   "outputs": [
    {
     "name": "stdout",
     "output_type": "stream",
     "text": [
      "Accuracy of the network on the 10000 test images: 47.660000000000004 %\n"
     ]
    }
   ],
   "source": [
    "print(f\"Accuracy of the network on the 10000 test images: {100 * calculate_accuracy(net)} %\")"
   ]
  },
  {
   "cell_type": "markdown",
   "metadata": {
    "id": "zvDAvGQCtm6J"
   },
   "source": [
    "# Hyperparameter search"
   ]
  },
  {
   "cell_type": "code",
   "execution_count": null,
   "metadata": {
    "id": "TuU9SU3ntm6J"
   },
   "outputs": [],
   "source": [
    "class ModelBuilder(nn.Module):\n",
    "    def __init__(self, layers):\n",
    "        super().__init__()\n",
    "        self.mlp = nn.Sequential(*layers)\n",
    "\n",
    "    def forward(self, x):\n",
    "        return self.mlp(x)"
   ]
  },
  {
   "cell_type": "code",
   "execution_count": null,
   "metadata": {
    "id": "Y3NIX7q-tm6J"
   },
   "outputs": [],
   "source": [
    "def build_model(conv_2d_param, linear_param, dropout_prob):\n",
    "\n",
    "    layers = []\n",
    "    in_channels = 3\n",
    "    size = 32\n",
    "\n",
    "    for out_channels, kernel_size in conv_2d_param:\n",
    "        layers += [\n",
    "            nn.Conv2d(in_channels=in_channels, out_channels=out_channels, kernel_size=kernel_size, stride=1, padding=kernel_size//2),\n",
    "            nn.ReLU(),\n",
    "            nn.MaxPool2d(kernel_size=2, stride=2),\n",
    "            ]\n",
    "        in_channels = out_channels\n",
    "        size = size // 2\n",
    "\n",
    "    layers += [nn.Flatten()]\n",
    "\n",
    "    in_features = out_channels*size*size\n",
    "\n",
    "    for out_features in linear_param:\n",
    "        layers += [\n",
    "            nn.Linear(in_features=in_features, out_features=out_features),\n",
    "            nn.Dropout1d(dropout_prob),\n",
    "            nn.ReLU()\n",
    "        ]\n",
    "        in_features=out_features\n",
    "\n",
    "    layers += [\n",
    "        nn.Linear(in_features=512, out_features=out_features), \n",
    "        nn.Softmax(dim=1)\n",
    "    ]\n",
    "\n",
    "    return ModelBuilder(layers=layers)\n",
    "\n"
   ]
  },
  {
   "cell_type": "code",
   "execution_count": 21,
   "metadata": {
    "id": "vWauPVDYtm6J"
   },
   "outputs": [],
   "source": [
    "def train_model_acc(conv_2d_param, linear_param, num_epochs, learning_rate, dropout_prob):\n",
    "    net = build_model(conv_2d_param, linear_param, dropout_prob)\n",
    "\n",
    "    criterion = nn.CrossEntropyLoss()\n",
    "    optimizer = torch.optim.SGD(net.parameters(), lr=learning_rate, momentum=0.9)\n",
    "\n",
    "    net.train()\n",
    "\n",
    "    for epoch in range(num_epochs):\n",
    "        for X_batch, Y_batch in trainloader:\n",
    "            y_pred = net(X_batch.to(device))\n",
    "\n",
    "            loss = criterion(y_pred, Y_batch.to(device))\n",
    "            loss.backward()\n",
    "\n",
    "            optimizer.step()\n",
    "            optimizer.zero_grad()\n",
    "\n",
    "    return net, calculate_accuracy(net)\n"
   ]
  },
  {
   "cell_type": "code",
   "execution_count": 18,
   "metadata": {
    "colab": {
     "base_uri": "https://localhost:8080/"
    },
    "id": "Z4G3jZQStm6J",
    "outputId": "c0ad43c8-05db-40a6-cb72-303412733649"
   },
   "outputs": [
    {
     "name": "stdout",
     "output_type": "stream",
     "text": [
      "Collecting optuna\n",
      "  Downloading optuna-4.0.0-py3-none-any.whl.metadata (16 kB)\n",
      "Collecting alembic>=1.5.0 (from optuna)\n",
      "  Downloading alembic-1.13.3-py3-none-any.whl.metadata (7.4 kB)\n",
      "Collecting colorlog (from optuna)\n",
      "  Downloading colorlog-6.9.0-py3-none-any.whl.metadata (10 kB)\n",
      "Requirement already satisfied: numpy in /usr/local/lib/python3.10/dist-packages (from optuna) (1.26.4)\n",
      "Requirement already satisfied: packaging>=20.0 in /usr/local/lib/python3.10/dist-packages (from optuna) (24.1)\n",
      "Requirement already satisfied: sqlalchemy>=1.3.0 in /usr/local/lib/python3.10/dist-packages (from optuna) (2.0.36)\n",
      "Requirement already satisfied: tqdm in /usr/local/lib/python3.10/dist-packages (from optuna) (4.66.6)\n",
      "Requirement already satisfied: PyYAML in /usr/local/lib/python3.10/dist-packages (from optuna) (6.0.2)\n",
      "Collecting Mako (from alembic>=1.5.0->optuna)\n",
      "  Downloading Mako-1.3.6-py3-none-any.whl.metadata (2.9 kB)\n",
      "Requirement already satisfied: typing-extensions>=4 in /usr/local/lib/python3.10/dist-packages (from alembic>=1.5.0->optuna) (4.12.2)\n",
      "Requirement already satisfied: greenlet!=0.4.17 in /usr/local/lib/python3.10/dist-packages (from sqlalchemy>=1.3.0->optuna) (3.1.1)\n",
      "Requirement already satisfied: MarkupSafe>=0.9.2 in /usr/local/lib/python3.10/dist-packages (from Mako->alembic>=1.5.0->optuna) (3.0.2)\n",
      "Downloading optuna-4.0.0-py3-none-any.whl (362 kB)\n",
      "\u001b[2K   \u001b[90m━━━━━━━━━━━━━━━━━━━━━━━━━━━━━━━━━━━━━━━━\u001b[0m \u001b[32m362.8/362.8 kB\u001b[0m \u001b[31m9.7 MB/s\u001b[0m eta \u001b[36m0:00:00\u001b[0m\n",
      "\u001b[?25hDownloading alembic-1.13.3-py3-none-any.whl (233 kB)\n",
      "\u001b[2K   \u001b[90m━━━━━━━━━━━━━━━━━━━━━━━━━━━━━━━━━━━━━━━━\u001b[0m \u001b[32m233.2/233.2 kB\u001b[0m \u001b[31m11.0 MB/s\u001b[0m eta \u001b[36m0:00:00\u001b[0m\n",
      "\u001b[?25hDownloading colorlog-6.9.0-py3-none-any.whl (11 kB)\n",
      "Downloading Mako-1.3.6-py3-none-any.whl (78 kB)\n",
      "\u001b[2K   \u001b[90m━━━━━━━━━━━━━━━━━━━━━━━━━━━━━━━━━━━━━━━━\u001b[0m \u001b[32m78.6/78.6 kB\u001b[0m \u001b[31m4.4 MB/s\u001b[0m eta \u001b[36m0:00:00\u001b[0m\n",
      "\u001b[?25hInstalling collected packages: Mako, colorlog, alembic, optuna\n",
      "Successfully installed Mako-1.3.6 alembic-1.13.3 colorlog-6.9.0 optuna-4.0.0\n"
     ]
    }
   ],
   "source": [
    "import optuna\n",
    "from optuna.samplers import TPESampler"
   ]
  },
  {
   "cell_type": "code",
   "execution_count": null,
   "metadata": {},
   "outputs": [],
   "source": [
    "history = []"
   ]
  },
  {
   "cell_type": "code",
   "execution_count": null,
   "metadata": {
    "colab": {
     "base_uri": "https://localhost:8080/",
     "height": 173,
     "referenced_widgets": [
      "5fd6531c0c7c468395cf6ebc125c35d7",
      "cfc307e936f74ed299982a6e52eda768",
      "3abc59f0cd2d4c8aadc227c4c239ad10",
      "953e56955adf49098b1d56b5f2f23667",
      "ac4bc102d01b471da205a8f9e97ab13c",
      "18986ea15f204b2da79c6672f56e9a49",
      "a7873dcc66694707b4741c0b019fe8c6",
      "95023d969f1848eab8781b239e2c657b",
      "8c68103f3ddf4aa086ccae0d8921f149",
      "5fda5e9e54c24215ab70ef5c4fc08c50",
      "c9691a466b3142e490ceb70337f13642"
     ]
    },
    "id": "fyF3TSa0tm6J",
    "outputId": "0d69f571-d0cd-486e-a992-d767fd6bdb7b"
   },
   "outputs": [
    {
     "name": "stderr",
     "output_type": "stream",
     "text": [
      "[I 2024-11-01 18:48:20,099] A new study created in memory with name: no-name-f693a368-fe0f-4eae-a3a3-108b5ae60ad0\n"
     ]
    },
    {
     "data": {
      "application/vnd.jupyter.widget-view+json": {
       "model_id": "5fd6531c0c7c468395cf6ebc125c35d7",
       "version_major": 2,
       "version_minor": 0
      },
      "text/plain": [
       "  0%|          | 0/5 [00:00<?, ?it/s]"
      ]
     },
     "metadata": {},
     "output_type": "display_data"
    },
    {
     "name": "stdout",
     "output_type": "stream",
     "text": [
      "[I 2024-11-01 19:46:52,655] Trial 0 finished with value: 0.6506 and parameters: {'n_conv_layers': 1, 'conv_layer_channels_0': 82, 'conv_layer_kernel_size_0': 3, 'n_fc_layers': 3, 'fc_layer_features_0': 111, 'fc_layer_features_1': 131, 'fc_layer_features_2': 84, 'learning_rate': 0.0013854672192929673, 'dropout_rate': 0.09400771991450463, 'epochs': 10}. Best is trial 0 with value: 0.6506.\n",
      "[I 2024-11-01 20:04:35,860] Trial 1 finished with value: 0.5458 and parameters: {'n_conv_layers': 1, 'conv_layer_channels_0': 18, 'conv_layer_kernel_size_0': 5, 'n_fc_layers': 1, 'fc_layer_features_0': 246, 'learning_rate': 0.001831448466532964, 'dropout_rate': 0.16368437344777964, 'epochs': 7}. Best is trial 0 with value: 0.6506.\n",
      "[I 2024-11-01 20:26:50,694] Trial 2 finished with value: 0.3722 and parameters: {'n_conv_layers': 2, 'conv_layer_channels_0': 28, 'conv_layer_kernel_size_0': 3, 'conv_layer_channels_1': 21, 'conv_layer_kernel_size_1': 5, 'n_fc_layers': 3, 'fc_layer_features_0': 244, 'fc_layer_features_1': 479, 'fc_layer_features_2': 329, 'learning_rate': 0.009457487223577131, 'dropout_rate': 0.0999531747937682, 'epochs': 6}. Best is trial 0 with value: 0.6506.\n",
      "[I 2024-11-01 21:02:11,821] Trial 3 finished with value: 0.6585 and parameters: {'n_conv_layers': 2, 'conv_layer_channels_0': 71, 'conv_layer_kernel_size_0': 5, 'conv_layer_channels_1': 75, 'conv_layer_kernel_size_1': 3, 'n_fc_layers': 1, 'fc_layer_features_0': 76, 'learning_rate': 0.00011941964930588276, 'dropout_rate': 0.4675064239319546, 'epochs': 8}. Best is trial 3 with value: 0.6585.\n",
      "[I 2024-11-01 21:52:49,316] Trial 4 finished with value: 0.6247 and parameters: {'n_conv_layers': 3, 'conv_layer_channels_0': 107, 'conv_layer_kernel_size_0': 3, 'conv_layer_channels_1': 93, 'conv_layer_kernel_size_1': 5, 'conv_layer_channels_2': 97, 'conv_layer_kernel_size_2': 3, 'n_fc_layers': 1, 'fc_layer_features_0': 72, 'learning_rate': 0.00012518339141220992, 'dropout_rate': 0.33721202268992384, 'epochs': 5}. Best is trial 3 with value: 0.6585.\n"
     ]
    }
   ],
   "source": [
    "def objective(trial):\n",
    "    conv_2d_param = [\n",
    "        (\n",
    "            trial.suggest_int(f'conv_layer_channels_{i}', 8, 128),\n",
    "            trial.suggest_int(f'conv_layer_kernel_size_{i}', low=3, high=5, step=2)\n",
    "            ) for i in range(trial.suggest_int('n_conv_layers', 1, 3))\n",
    "        ]\n",
    "    linear_param = [\n",
    "        trial.suggest_int(f'fc_layer_features_{i}', 64, 512, log=True) for i in range(trial.suggest_int('n_fc_layers', 1, 3))\n",
    "        ]\n",
    "    learning_rate = trial.suggest_float('learning_rate', 1e-4, 1e-2, log=True)\n",
    "    dropout_prob = trial.suggest_float('dropout_rate', 0.0, 0.5)\n",
    "    num_epochs = trial.suggest_int('epochs', 4, 8)\n",
    "\n",
    "    net, accuracy = train_model_acc(conv_2d_param, linear_param, num_epochs, learning_rate, dropout_prob)\n",
    "    history.append(net)\n",
    "    return accuracy\n",
    "\n",
    "study = optuna.create_study(direction='maximize', sampler=TPESampler())\n",
    "study.optimize(objective, n_trials=5, show_progress_bar=True)"
   ]
  },
  {
   "cell_type": "code",
   "execution_count": 20,
   "metadata": {
    "colab": {
     "base_uri": "https://localhost:8080/"
    },
    "id": "UtCoJet8tm6J",
    "outputId": "78469688-b639-44b7-af37-36091fa2b0eb"
   },
   "outputs": [
    {
     "name": "stdout",
     "output_type": "stream",
     "text": [
      "{'n_conv_layers': 2, 'conv_layer_channels_0': 71, 'conv_layer_kernel_size_0': 5, 'conv_layer_channels_1': 75, 'conv_layer_kernel_size_1': 3, 'n_fc_layers': 1, 'fc_layer_features_0': 76, 'learning_rate': 0.00011941964930588276, 'dropout_rate': 0.4675064239319546, 'epochs': 8}\n"
     ]
    }
   ],
   "source": [
    "best_params = study.best_params\n",
    "print(best_params)"
   ]
  },
  {
   "cell_type": "code",
   "execution_count": null,
   "metadata": {},
   "outputs": [
    {
     "name": "stdout",
     "output_type": "stream",
     "text": [
      "Accuracy: 66.99%\n"
     ]
    }
   ],
   "source": [
    "net, acc = train_model_acc(\n",
    "    conv_2d_param=[(71,5), (75,3)],\n",
    "    linear_param=[76],\n",
    "    learning_rate=0.00011941964930588276,\n",
    "    dropout_prob=0.4675064239319546,\n",
    "    num_epochs=8\n",
    "    )\n",
    "print(f\"Accuracy: {acc*100}%\")"
   ]
  },
  {
   "cell_type": "code",
   "execution_count": null,
   "metadata": {
    "colab": {
     "base_uri": "https://localhost:8080/",
     "height": 1000
    },
    "id": "yjyTvU97hhjq",
    "outputId": "26664445-075d-4536-c0c5-e1e0176c2494"
   },
   "outputs": [
    {
     "name": "stderr",
     "output_type": "stream",
     "text": [
      "WARNING:matplotlib.image:Clipping input data to the valid range for imshow with RGB data ([0..1] for floats or [0..255] for integers).\n"
     ]
    },
    {
     "name": "stdout",
     "output_type": "stream",
     "text": [
      "tensor([3, 1, 0, 9]) tensor([3, 1, 0, 9])\n"
     ]
    },
    {
     "data": {
      "image/png": "[encoded data removed]",
      "text/plain": [
       "<Figure size 640x480 with 1 Axes>"
      ]
     },
     "metadata": {},
     "output_type": "display_data"
    },
    {
     "name": "stderr",
     "output_type": "stream",
     "text": [
      "WARNING:matplotlib.image:Clipping input data to the valid range for imshow with RGB data ([0..1] for floats or [0..255] for integers).\n"
     ]
    },
    {
     "data": {
      "image/png": "[encoded data removed]",
      "text/plain": [
       "<Figure size 640x480 with 1 Axes>"
      ]
     },
     "metadata": {},
     "output_type": "display_data"
    },
    {
     "name": "stderr",
     "output_type": "stream",
     "text": [
      "WARNING:matplotlib.image:Clipping input data to the valid range for imshow with RGB data ([0..1] for floats or [0..255] for integers).\n"
     ]
    },
    {
     "data": {
      "image/png": "[encoded data removed]",
      "text/plain": [
       "<Figure size 640x480 with 1 Axes>"
      ]
     },
     "metadata": {},
     "output_type": "display_data"
    },
    {
     "name": "stderr",
     "output_type": "stream",
     "text": [
      "WARNING:matplotlib.image:Clipping input data to the valid range for imshow with RGB data ([0..1] for floats or [0..255] for integers).\n"
     ]
    },
    {
     "data": {
      "image/png": "[encoded data removed]",
      "text/plain": [
       "<Figure size 640x480 with 1 Axes>"
      ]
     },
     "metadata": {},
     "output_type": "display_data"
    }
   ],
   "source": [
    "i = (iter(testloader))\n",
    "X_batch, y_batch = next(i)\n",
    "X_batch, y_batch = next(i)\n",
    "X_batch, y_batch = next(i)\n",
    "\n",
    "y_pred = torch.argmax(net(X_batch), dim=1)\n",
    "print(y_pred, y_batch)\n",
    "for i in range(4):\n",
    "    show_tensor_image(X_batch[i], label=f\"real: {classes[y_batch[i]]} | pred: {classes[y_pred[i]]}\")"
   ]
  }
 ],
 "metadata": {
  "colab": {
   "provenance": []
  },
  "kernelspec": {
   "display_name": "Python 3",
   "language": "python",
   "name": "python3"
  },
  "language_info": {
   "codemirror_mode": {
    "name": "ipython",
    "version": 3
   },
   "file_extension": ".py",
   "mimetype": "text/x-python",
   "name": "python",
   "nbconvert_exporter": "python",
   "pygments_lexer": "ipython3",
   "version": "3.11.9"
  },
  "widgets": {
   "application/vnd.jupyter.widget-state+json": {
    "18986ea15f204b2da79c6672f56e9a49": {
     "model_module": "@jupyter-widgets/base",
     "model_module_version": "1.2.0",
     "model_name": "LayoutModel",
     "state": {
      "_model_module": "@jupyter-widgets/base",
      "_model_module_version": "1.2.0",
      "_model_name": "LayoutModel",
      "_view_count": null,
      "_view_module": "@jupyter-widgets/base",
      "_view_module_version": "1.2.0",
      "_view_name": "LayoutView",
      "align_content": null,
      "align_items": null,
      "align_self": null,
      "border": null,
      "bottom": null,
      "display": null,
      "flex": null,
      "flex_flow": null,
      "grid_area": null,
      "grid_auto_columns": null,
      "grid_auto_flow": null,
      "grid_auto_rows": null,
      "grid_column": null,
      "grid_gap": null,
      "grid_row": null,
      "grid_template_areas": null,
      "grid_template_columns": null,
      "grid_template_rows": null,
      "height": null,
      "justify_content": null,
      "justify_items": null,
      "left": null,
      "margin": null,
      "max_height": null,
      "max_width": null,
      "min_height": null,
      "min_width": null,
      "object_fit": null,
      "object_position": null,
      "order": null,
      "overflow": null,
      "overflow_x": null,
      "overflow_y": null,
      "padding": null,
      "right": null,
      "top": null,
      "visibility": null,
      "width": null
     }
    },
    "3abc59f0cd2d4c8aadc227c4c239ad10": {
     "model_module": "@jupyter-widgets/controls",
     "model_module_version": "1.5.0",
     "model_name": "FloatProgressModel",
     "state": {
      "_dom_classes": [],
      "_model_module": "@jupyter-widgets/controls",
      "_model_module_version": "1.5.0",
      "_model_name": "FloatProgressModel",
      "_view_count": null,
      "_view_module": "@jupyter-widgets/controls",
      "_view_module_version": "1.5.0",
      "_view_name": "ProgressView",
      "bar_style": "success",
      "description": "",
      "description_tooltip": null,
      "layout": "IPY_MODEL_95023d969f1848eab8781b239e2c657b",
      "max": 5,
      "min": 0,
      "orientation": "horizontal",
      "style": "IPY_MODEL_8c68103f3ddf4aa086ccae0d8921f149",
      "value": 5
     }
    },
    "5fd6531c0c7c468395cf6ebc125c35d7": {
     "model_module": "@jupyter-widgets/controls",
     "model_module_version": "1.5.0",
     "model_name": "HBoxModel",
     "state": {
      "_dom_classes": [],
      "_model_module": "@jupyter-widgets/controls",
      "_model_module_version": "1.5.0",
      "_model_name": "HBoxModel",
      "_view_count": null,
      "_view_module": "@jupyter-widgets/controls",
      "_view_module_version": "1.5.0",
      "_view_name": "HBoxView",
      "box_style": "",
      "children": [
       "IPY_MODEL_cfc307e936f74ed299982a6e52eda768",
       "IPY_MODEL_3abc59f0cd2d4c8aadc227c4c239ad10",
       "IPY_MODEL_953e56955adf49098b1d56b5f2f23667"
      ],
      "layout": "IPY_MODEL_ac4bc102d01b471da205a8f9e97ab13c"
     }
    },
    "5fda5e9e54c24215ab70ef5c4fc08c50": {
     "model_module": "@jupyter-widgets/base",
     "model_module_version": "1.2.0",
     "model_name": "LayoutModel",
     "state": {
      "_model_module": "@jupyter-widgets/base",
      "_model_module_version": "1.2.0",
      "_model_name": "LayoutModel",
      "_view_count": null,
      "_view_module": "@jupyter-widgets/base",
      "_view_module_version": "1.2.0",
      "_view_name": "LayoutView",
      "align_content": null,
      "align_items": null,
      "align_self": null,
      "border": null,
      "bottom": null,
      "display": null,
      "flex": null,
      "flex_flow": null,
      "grid_area": null,
      "grid_auto_columns": null,
      "grid_auto_flow": null,
      "grid_auto_rows": null,
      "grid_column": null,
      "grid_gap": null,
      "grid_row": null,
      "grid_template_areas": null,
      "grid_template_columns": null,
      "grid_template_rows": null,
      "height": null,
      "justify_content": null,
      "justify_items": null,
      "left": null,
      "margin": null,
      "max_height": null,
      "max_width": null,
      "min_height": null,
      "min_width": null,
      "object_fit": null,
      "object_position": null,
      "order": null,
      "overflow": null,
      "overflow_x": null,
      "overflow_y": null,
      "padding": null,
      "right": null,
      "top": null,
      "visibility": null,
      "width": null
     }
    },
    "8c68103f3ddf4aa086ccae0d8921f149": {
     "model_module": "@jupyter-widgets/controls",
     "model_module_version": "1.5.0",
     "model_name": "ProgressStyleModel",
     "state": {
      "_model_module": "@jupyter-widgets/controls",
      "_model_module_version": "1.5.0",
      "_model_name": "ProgressStyleModel",
      "_view_count": null,
      "_view_module": "@jupyter-widgets/base",
      "_view_module_version": "1.2.0",
      "_view_name": "StyleView",
      "bar_color": null,
      "description_width": ""
     }
    },
    "95023d969f1848eab8781b239e2c657b": {
     "model_module": "@jupyter-widgets/base",
     "model_module_version": "1.2.0",
     "model_name": "LayoutModel",
     "state": {
      "_model_module": "@jupyter-widgets/base",
      "_model_module_version": "1.2.0",
      "_model_name": "LayoutModel",
      "_view_count": null,
      "_view_module": "@jupyter-widgets/base",
      "_view_module_version": "1.2.0",
      "_view_name": "LayoutView",
      "align_content": null,
      "align_items": null,
      "align_self": null,
      "border": null,
      "bottom": null,
      "display": null,
      "flex": null,
      "flex_flow": null,
      "grid_area": null,
      "grid_auto_columns": null,
      "grid_auto_flow": null,
      "grid_auto_rows": null,
      "grid_column": null,
      "grid_gap": null,
      "grid_row": null,
      "grid_template_areas": null,
      "grid_template_columns": null,
      "grid_template_rows": null,
      "height": null,
      "justify_content": null,
      "justify_items": null,
      "left": null,
      "margin": null,
      "max_height": null,
      "max_width": null,
      "min_height": null,
      "min_width": null,
      "object_fit": null,
      "object_position": null,
      "order": null,
      "overflow": null,
      "overflow_x": null,
      "overflow_y": null,
      "padding": null,
      "right": null,
      "top": null,
      "visibility": null,
      "width": null
     }
    },
    "953e56955adf49098b1d56b5f2f23667": {
     "model_module": "@jupyter-widgets/controls",
     "model_module_version": "1.5.0",
     "model_name": "HTMLModel",
     "state": {
      "_dom_classes": [],
      "_model_module": "@jupyter-widgets/controls",
      "_model_module_version": "1.5.0",
      "_model_name": "HTMLModel",
      "_view_count": null,
      "_view_module": "@jupyter-widgets/controls",
      "_view_module_version": "1.5.0",
      "_view_name": "HTMLView",
      "description": "",
      "description_tooltip": null,
      "layout": "IPY_MODEL_5fda5e9e54c24215ab70ef5c4fc08c50",
      "placeholder": "​",
      "style": "IPY_MODEL_c9691a466b3142e490ceb70337f13642",
      "value": " 5/5 [3:04:29&lt;00:00, 2302.26s/it]"
     }
    },
    "a7873dcc66694707b4741c0b019fe8c6": {
     "model_module": "@jupyter-widgets/controls",
     "model_module_version": "1.5.0",
     "model_name": "DescriptionStyleModel",
     "state": {
      "_model_module": "@jupyter-widgets/controls",
      "_model_module_version": "1.5.0",
      "_model_name": "DescriptionStyleModel",
      "_view_count": null,
      "_view_module": "@jupyter-widgets/base",
      "_view_module_version": "1.2.0",
      "_view_name": "StyleView",
      "description_width": ""
     }
    },
    "ac4bc102d01b471da205a8f9e97ab13c": {
     "model_module": "@jupyter-widgets/base",
     "model_module_version": "1.2.0",
     "model_name": "LayoutModel",
     "state": {
      "_model_module": "@jupyter-widgets/base",
      "_model_module_version": "1.2.0",
      "_model_name": "LayoutModel",
      "_view_count": null,
      "_view_module": "@jupyter-widgets/base",
      "_view_module_version": "1.2.0",
      "_view_name": "LayoutView",
      "align_content": null,
      "align_items": null,
      "align_self": null,
      "border": null,
      "bottom": null,
      "display": null,
      "flex": null,
      "flex_flow": null,
      "grid_area": null,
      "grid_auto_columns": null,
      "grid_auto_flow": null,
      "grid_auto_rows": null,
      "grid_column": null,
      "grid_gap": null,
      "grid_row": null,
      "grid_template_areas": null,
      "grid_template_columns": null,
      "grid_template_rows": null,
      "height": null,
      "justify_content": null,
      "justify_items": null,
      "left": null,
      "margin": null,
      "max_height": null,
      "max_width": null,
      "min_height": null,
      "min_width": null,
      "object_fit": null,
      "object_position": null,
      "order": null,
      "overflow": null,
      "overflow_x": null,
      "overflow_y": null,
      "padding": null,
      "right": null,
      "top": null,
      "visibility": null,
      "width": null
     }
    },
    "c9691a466b3142e490ceb70337f13642": {
     "model_module": "@jupyter-widgets/controls",
     "model_module_version": "1.5.0",
     "model_name": "DescriptionStyleModel",
     "state": {
      "_model_module": "@jupyter-widgets/controls",
      "_model_module_version": "1.5.0",
      "_model_name": "DescriptionStyleModel",
      "_view_count": null,
      "_view_module": "@jupyter-widgets/base",
      "_view_module_version": "1.2.0",
      "_view_name": "StyleView",
      "description_width": ""
     }
    },
    "cfc307e936f74ed299982a6e52eda768": {
     "model_module": "@jupyter-widgets/controls",
     "model_module_version": "1.5.0",
     "model_name": "HTMLModel",
     "state": {
      "_dom_classes": [],
      "_model_module": "@jupyter-widgets/controls",
      "_model_module_version": "1.5.0",
      "_model_name": "HTMLModel",
      "_view_count": null,
      "_view_module": "@jupyter-widgets/controls",
      "_view_module_version": "1.5.0",
      "_view_name": "HTMLView",
      "description": "",
      "description_tooltip": null,
      "layout": "IPY_MODEL_18986ea15f204b2da79c6672f56e9a49",
      "placeholder": "​",
      "style": "IPY_MODEL_a7873dcc66694707b4741c0b019fe8c6",
      "value": "Best trial: 3. Best value: 0.6585: 100%"
     }
    }
   }
  }
 },
 "nbformat": 4,
 "nbformat_minor": 0
}
