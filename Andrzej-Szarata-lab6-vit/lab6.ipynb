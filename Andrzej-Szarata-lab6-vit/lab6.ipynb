{
 "cells": [
  {
   "cell_type": "code",
   "id": "initial_id",
   "metadata": {
    "collapsed": true,
    "ExecuteTime": {
     "end_time": "2024-12-13T05:37:14.672737Z",
     "start_time": "2024-12-13T05:36:57.425523Z"
    }
   },
   "source": [
    "import torch\n",
    "import torch.nn as nn\n",
    "from torchvision import datasets, transforms\n",
    "from torch.utils.data import DataLoader\n",
    "import torch.optim as optim\n",
    "from tqdm.notebook import tqdm\n",
    "\n",
    "import matplotlib.pyplot as plt"
   ],
   "outputs": [],
   "execution_count": 1
  },
  {
   "metadata": {
    "ExecuteTime": {
     "end_time": "2024-12-13T05:37:14.730076Z",
     "start_time": "2024-12-13T05:37:14.674738Z"
    }
   },
   "cell_type": "code",
   "source": "device = torch.device(\"cuda\" if torch.cuda.is_available() else \"cpu\")",
   "id": "edce5327e69b8826",
   "outputs": [],
   "execution_count": 2
  },
  {
   "metadata": {
    "ExecuteTime": {
     "end_time": "2024-12-13T05:37:14.739070Z",
     "start_time": "2024-12-13T05:37:14.732079Z"
    }
   },
   "cell_type": "code",
   "source": [
    "transform = transforms.Compose([\n",
    "    transforms.RandomHorizontalFlip(),\n",
    "    transforms.RandomResizedCrop(size=32, scale=(0.8, 1.0), ratio=(0.9, 1.1)),\n",
    "    transforms.ToTensor(),\n",
    "    transforms.Normalize(mean=[0.5, 0.5, 0.5], std=[0.5, 0.5, 0.5])\n",
    "])"
   ],
   "id": "2794ef839a4ca58f",
   "outputs": [],
   "execution_count": 3
  },
  {
   "metadata": {
    "ExecuteTime": {
     "end_time": "2024-12-13T05:37:17.568648Z",
     "start_time": "2024-12-13T05:37:14.741072Z"
    }
   },
   "cell_type": "code",
   "source": [
    "train_dataset = datasets.CIFAR10(root='./data', train=True, download=True, transform=transform)\n",
    "test_dataset = datasets.CIFAR10(root='./data', train=False, download=True, transform=transform)\n",
    "\n",
    "train_loader = DataLoader(train_dataset, batch_size=128, shuffle=True)\n",
    "test_loader = DataLoader(test_dataset, batch_size=128, shuffle=False)"
   ],
   "id": "470c8ea14d331feb",
   "outputs": [
    {
     "name": "stdout",
     "output_type": "stream",
     "text": [
      "Files already downloaded and verified\n",
      "Files already downloaded and verified\n"
     ]
    }
   ],
   "execution_count": 4
  },
  {
   "metadata": {},
   "cell_type": "markdown",
   "source": "Funkcja `to_patches` przekształca obraz o wymiarach (batch, channels, height, width) na batch sekwencji małych patchy dzieląc każdy obraz na prostokątne fragmenty o określonym rozmiarze, a następnie spłaszczając je do wektorów. Proces obejmuje wyodrębnienie patch-y wzdłuż osi wysokości i szerokości, a następnie przekształcenie ich w jednowymiarowe reprezentacje.",
   "id": "ce8dbe6282314126"
  },
  {
   "metadata": {
    "ExecuteTime": {
     "end_time": "2024-12-13T05:37:17.580883Z",
     "start_time": "2024-12-13T05:37:17.572648Z"
    }
   },
   "cell_type": "code",
   "source": [
    "def to_patches(image, patch_size):\n",
    "    num_patches_h = image.shape[2] // patch_size\n",
    "    num_patches_w = image.shape[3] // patch_size\n",
    "    image = image.permute(0, 2, 3, 1)\n",
    "    image = image.view(image.shape[0], num_patches_h, patch_size, num_patches_w, patch_size, image.shape[3])\n",
    "    patches = image.permute(0, 1, 3, 2, 4, 5).contiguous()\n",
    "    patches = patches.view(patches.shape[0], -1, patch_size * patch_size * patches.shape[-1])\n",
    "    return patches\n"
   ],
   "id": "a1ddbc1351efbbaa",
   "outputs": [],
   "execution_count": 5
  },
  {
   "metadata": {
    "ExecuteTime": {
     "end_time": "2024-12-13T05:37:17.594239Z",
     "start_time": "2024-12-13T05:37:17.582884Z"
    }
   },
   "cell_type": "code",
   "source": [
    "import math\n",
    "\n",
    "def display_patches(image, patch_size, title=\"Patches\"):\n",
    "    patches = to_patches(image, patch_size)\n",
    "    num_patches = patches.shape[1]\n",
    "    grid_size = math.ceil(math.sqrt(num_patches))\n",
    "    fig, axs = plt.subplots(grid_size, grid_size, figsize=(grid_size * 2, grid_size * 2))\n",
    "    fig.suptitle(title, fontsize=16)\n",
    "    axs = axs.flatten()\n",
    "    \n",
    "    for i in range(len(axs)):\n",
    "        if i < num_patches:\n",
    "            patch = patches[0, i].view(patch_size, patch_size, -1).permute(2, 0, 1)\n",
    "            axs[i].imshow(patch.permute(1, 2, 0).numpy())\n",
    "        axs[i].axis('off')\n",
    "        \n",
    "    plt.tight_layout()\n",
    "    plt.show()\n",
    "\n"
   ],
   "id": "af03e3ba9c3669bb",
   "outputs": [],
   "execution_count": 6
  },
  {
   "metadata": {
    "ExecuteTime": {
     "end_time": "2024-12-13T05:37:19.354562Z",
     "start_time": "2024-12-13T05:37:17.596241Z"
    }
   },
   "cell_type": "code",
   "source": [
    "images, labels = next(iter(train_loader))\n",
    "label_name = train_dataset.classes[labels[0]]\n",
    "display_patches(images[:1], patch_size=8, title=label_name)"
   ],
   "id": "118a2221fe8ae392",
   "outputs": [
    {
     "name": "stderr",
     "output_type": "stream",
     "text": [
      "Clipping input data to the valid range for imshow with RGB data ([0..1] for floats or [0..255] for integers).\n",
      "Clipping input data to the valid range for imshow with RGB data ([0..1] for floats or [0..255] for integers).\n",
      "Clipping input data to the valid range for imshow with RGB data ([0..1] for floats or [0..255] for integers).\n",
      "Clipping input data to the valid range for imshow with RGB data ([0..1] for floats or [0..255] for integers).\n",
      "Clipping input data to the valid range for imshow with RGB data ([0..1] for floats or [0..255] for integers).\n",
      "Clipping input data to the valid range for imshow with RGB data ([0..1] for floats or [0..255] for integers).\n",
      "Clipping input data to the valid range for imshow with RGB data ([0..1] for floats or [0..255] for integers).\n",
      "Clipping input data to the valid range for imshow with RGB data ([0..1] for floats or [0..255] for integers).\n",
      "Clipping input data to the valid range for imshow with RGB data ([0..1] for floats or [0..255] for integers).\n",
      "Clipping input data to the valid range for imshow with RGB data ([0..1] for floats or [0..255] for integers).\n",
      "Clipping input data to the valid range for imshow with RGB data ([0..1] for floats or [0..255] for integers).\n",
      "Clipping input data to the valid range for imshow with RGB data ([0..1] for floats or [0..255] for integers).\n",
      "Clipping input data to the valid range for imshow with RGB data ([0..1] for floats or [0..255] for integers).\n",
      "Clipping input data to the valid range for imshow with RGB data ([0..1] for floats or [0..255] for integers).\n",
      "Clipping input data to the valid range for imshow with RGB data ([0..1] for floats or [0..255] for integers).\n",
      "Clipping input data to the valid range for imshow with RGB data ([0..1] for floats or [0..255] for integers).\n"
     ]
    },
    {
     "data": {
      "text/plain": [
       "<Figure size 800x800 with 16 Axes>"
      ],
      "image/png": "[encoded data removed]"
     },
     "metadata": {},
     "output_type": "display_data"
    }
   ],
   "execution_count": 7
  },
  {
   "metadata": {
    "ExecuteTime": {
     "end_time": "2024-12-13T05:37:19.364649Z",
     "start_time": "2024-12-13T05:37:19.355563Z"
    }
   },
   "cell_type": "code",
   "source": [
    "class PatchEmbedding(nn.Module):\n",
    "    def __init__(self, embed_dim=256, patch_size=4, in_channels=3):\n",
    "        super(PatchEmbedding, self).__init__()\n",
    "        self.patch_size = patch_size\n",
    "    \n",
    "        self.l = nn.Linear(patch_size * patch_size * in_channels, embed_dim)\n",
    "        \n",
    "    def forward(self, x):\n",
    "        x = to_patches(x, patch_size=self.patch_size)\n",
    "        return self.l(x)"
   ],
   "id": "af40e69d17e76967",
   "outputs": [],
   "execution_count": 8
  },
  {
   "metadata": {
    "ExecuteTime": {
     "end_time": "2024-12-13T05:37:19.384211Z",
     "start_time": "2024-12-13T05:37:19.366653Z"
    }
   },
   "cell_type": "code",
   "source": [
    "class MyMultiheadAttention(nn.Module):\n",
    "    def __init__(self, embed_dim=256, num_heads=8):\n",
    "        super(MyMultiheadAttention, self).__init__()\n",
    "        self.mha = nn.MultiheadAttention(embed_dim=embed_dim, num_heads=num_heads)\n",
    "    def forward(self, x):\n",
    "        return self.mha(x, x, x)\n",
    "\n",
    "class TransformerBlock(nn.Module):\n",
    "    def __init__(self, embed_dim=256, dropout_prob=0.1):\n",
    "        super(TransformerBlock, self).__init__()\n",
    "\n",
    "        self.dropout_prob = dropout_prob\n",
    "\n",
    "        self.resblock_1 = nn.Sequential(\n",
    "            nn.LayerNorm(embed_dim),\n",
    "            MyMultiheadAttention(embed_dim=embed_dim),\n",
    "        )\n",
    "\n",
    "        self.resblock_2 = nn.Sequential(\n",
    "            nn.LayerNorm(embed_dim),\n",
    "            nn.Linear(embed_dim, 512),\n",
    "            nn.GELU(),\n",
    "            nn.Dropout(dropout_prob),\n",
    "            nn.Linear(512, embed_dim),\n",
    "            nn.Dropout(dropout_prob),\n",
    "        )\n",
    "\n",
    "    def forward(self, x):\n",
    "        y, _ = self.resblock_1(x)\n",
    "        x = x + y\n",
    "        y = self.resblock_2(x)\n",
    "        return x + y"
   ],
   "id": "38c16e2d03e23fd1",
   "outputs": [],
   "execution_count": 9
  },
  {
   "metadata": {
    "ExecuteTime": {
     "end_time": "2024-12-13T05:37:19.398084Z",
     "start_time": "2024-12-13T05:37:19.386212Z"
    }
   },
   "cell_type": "code",
   "source": [
    "# class AddPositionalEmbedding(nn.Module):\n",
    "#     def __init__(self, positional_embedding):\n",
    "#         super(AddPositionalEmbedding, self).__init__()\n",
    "#         self.positional_embedding = positional_embedding\n",
    "# \n",
    "#     def forward(self, x):\n",
    "#         return x + self.positional_embedding\n",
    "# \n",
    "# class ViT(nn.Module):\n",
    "#     def __init__(self, image_size=32, embed_dim=256, patch_size=4, in_channels=3, output_size=10, dropout_prob=0.1):\n",
    "#         super(ViT, self).__init__()\n",
    "#         num_patches = (image_size // patch_size) ** 2\n",
    "# \n",
    "#         self.positional_embedding = nn.Parameter(torch.randn(1, num_patches, embed_dim))\n",
    "# \n",
    "#         self.vit = nn.Sequential(\n",
    "#             PatchEmbedding(embed_dim=embed_dim, patch_size=patch_size, in_channels=in_channels),\n",
    "#             AddPositionalEmbedding(self.positional_embedding),\n",
    "# \n",
    "#             TransformerBlock(embed_dim=embed_dim, dropout_prob=dropout_prob),\n",
    "#             TransformerBlock(embed_dim=embed_dim, dropout_prob=dropout_prob),\n",
    "#             TransformerBlock(embed_dim=embed_dim, dropout_prob=dropout_prob),\n",
    "#             TransformerBlock(embed_dim=embed_dim, dropout_prob=dropout_prob),\n",
    "#             TransformerBlock(embed_dim=embed_dim, dropout_prob=dropout_prob),\n",
    "#             TransformerBlock(embed_dim=embed_dim, dropout_prob=dropout_prob),\n",
    "# \n",
    "#             nn.LayerNorm(embed_dim),\n",
    "#             nn.Linear(embed_dim, output_size)\n",
    "# \n",
    "#         )\n",
    "#     def forward(self, x):\n",
    "#         x = self.vit(x)\n",
    "#         x = torch.mean(x, dim=1)\n",
    "#         return x\n",
    "\n",
    "\n",
    "class ViT(nn.Module):\n",
    "    def __init__(self, image_size=32, patch_size=4, in_channels=3, embed_size=256, output_size=10):\n",
    "        super().__init__()\n",
    "        self.patch_embedding = PatchEmbedding(embed_dim=embed_size, patch_size=patch_size, in_channels=in_channels)\n",
    "        num_patches = (image_size // patch_size) ** 2\n",
    "        self.positional_encoding = nn.Parameter(torch.randn(1, num_patches, embed_size))\n",
    "\n",
    "        transformers = [\n",
    "            TransformerBlock(\n",
    "                embed_dim=embed_size\n",
    "            )\n",
    "        ] * 6\n",
    "\n",
    "        self.transformers = nn.Sequential(*transformers)\n",
    "\n",
    "        self.linear = nn.Linear(embed_size, output_size)\n",
    "\n",
    "    def forward(self, x):\n",
    "        x = self.patch_embedding(x)\n",
    "        x += self.positional_encoding\n",
    "        x = self.transformers(x)\n",
    "        x = x.mean(dim=1)\n",
    "        x = self.linear(x)\n",
    "        return x"
   ],
   "id": "4682f79daf1e66bd",
   "outputs": [],
   "execution_count": 10
  },
  {
   "metadata": {
    "ExecuteTime": {
     "end_time": "2024-12-13T05:37:19.407135Z",
     "start_time": "2024-12-13T05:37:19.400084Z"
    }
   },
   "cell_type": "code",
   "source": "from copy import deepcopy",
   "id": "20b4af4c5b37d8db",
   "outputs": [],
   "execution_count": 11
  },
  {
   "metadata": {
    "ExecuteTime": {
     "end_time": "2024-12-13T05:37:19.426149Z",
     "start_time": "2024-12-13T05:37:19.418127Z"
    }
   },
   "cell_type": "code",
   "source": [
    "learning_rate = 0.002\n",
    "num_epochs = 160\n",
    "lr_drop_epochs = [100, 150]"
   ],
   "id": "12a13e8a79ed3af5",
   "outputs": [],
   "execution_count": 12
  },
  {
   "metadata": {
    "ExecuteTime": {
     "end_time": "2024-12-13T10:30:39.867143Z",
     "start_time": "2024-12-13T05:37:19.429150Z"
    }
   },
   "cell_type": "code",
   "source": [
    "model = ViT()\n",
    "model.to(device)\n",
    "\n",
    "loss_fn = nn.CrossEntropyLoss()\n",
    "optimizer = optim.AdamW(model.parameters(), lr=learning_rate)\n",
    "\n",
    "best_val_loss = torch.inf\n",
    "best_model = None\n",
    "\n",
    "pbar = tqdm(total=len(train_loader)*num_epochs, dynamic_ncols=True)\n",
    "for epoch in range(num_epochs):\n",
    "    running_loss = 0.0\n",
    "    for X_batch, y_batch in train_loader:\n",
    "        X_batch = X_batch.to(device)\n",
    "        y_batch = y_batch.to(device)\n",
    "        \n",
    "        y_pred = model(X_batch)\n",
    "        \n",
    "        loss = loss_fn(y_pred, y_batch)\n",
    "        running_loss += loss.item()\n",
    "        \n",
    "        optimizer.zero_grad()\n",
    "        loss.backward()\n",
    "        optimizer.step()    \n",
    "        \n",
    "        pbar.update(1)\n",
    "        pbar.set_description(f\"Loss: {loss.item():.4f}\")\n",
    "    \n",
    "    if running_loss<best_val_loss:\n",
    "        best_val_loss = running_loss\n",
    "        best_model = deepcopy(model)\n",
    "    \n",
    "    if epoch in lr_drop_epochs:\n",
    "        for param_group in optimizer.param_groups:\n",
    "            param_group['lr'] *= 0.1\n",
    "            \n",
    "    if epoch % 1 == 0:\n",
    "        print(f\"{epoch+1}/160 - Loss: {(running_loss/len(train_loader)):.4f}\")\n",
    "            \n",
    "torch.save(best_model.state_dict(), \"best_model.pth\")\n",
    "        "
   ],
   "id": "4691c59407acf77f",
   "outputs": [
    {
     "data": {
      "text/plain": [
       "  0%|          | 0/62560 [00:00<?, ?it/s]"
      ],
      "application/vnd.jupyter.widget-view+json": {
       "version_major": 2,
       "version_minor": 0,
       "model_id": "df6d2bcf84c74a59af4bd2666f2a0739"
      }
     },
     "metadata": {},
     "output_type": "display_data"
    },
    {
     "name": "stdout",
     "output_type": "stream",
     "text": [
      "1/160 - Loss: 1.8037\n",
      "2/160 - Loss: 1.4637\n",
      "3/160 - Loss: 1.3522\n",
      "4/160 - Loss: 1.2775\n",
      "5/160 - Loss: 1.2312\n",
      "6/160 - Loss: 1.1857\n",
      "7/160 - Loss: 1.1510\n",
      "8/160 - Loss: 1.1192\n",
      "9/160 - Loss: 1.0945\n",
      "10/160 - Loss: 1.0537\n",
      "11/160 - Loss: 1.0234\n",
      "12/160 - Loss: 0.9969\n",
      "13/160 - Loss: 0.9776\n",
      "14/160 - Loss: 0.9618\n",
      "15/160 - Loss: 0.9393\n",
      "16/160 - Loss: 0.9296\n",
      "17/160 - Loss: 0.9181\n",
      "18/160 - Loss: 0.9087\n",
      "19/160 - Loss: 0.8965\n",
      "20/160 - Loss: 0.8910\n",
      "21/160 - Loss: 0.8814\n",
      "22/160 - Loss: 0.8705\n",
      "23/160 - Loss: 0.8660\n",
      "24/160 - Loss: 0.8633\n",
      "25/160 - Loss: 0.8523\n",
      "26/160 - Loss: 0.8445\n",
      "27/160 - Loss: 0.8379\n",
      "28/160 - Loss: 0.8326\n",
      "29/160 - Loss: 0.8271\n",
      "30/160 - Loss: 0.8193\n",
      "31/160 - Loss: 0.8168\n",
      "32/160 - Loss: 0.8164\n",
      "33/160 - Loss: 0.8094\n",
      "34/160 - Loss: 0.8029\n",
      "35/160 - Loss: 0.7975\n",
      "36/160 - Loss: 0.7891\n",
      "37/160 - Loss: 0.7890\n",
      "38/160 - Loss: 0.7802\n",
      "39/160 - Loss: 0.7774\n",
      "40/160 - Loss: 0.7736\n",
      "41/160 - Loss: 0.7684\n",
      "42/160 - Loss: 0.7604\n",
      "43/160 - Loss: 0.7596\n",
      "44/160 - Loss: 0.7552\n",
      "45/160 - Loss: 0.7488\n",
      "46/160 - Loss: 0.7378\n",
      "47/160 - Loss: 0.7352\n",
      "48/160 - Loss: 0.7372\n",
      "49/160 - Loss: 0.7301\n",
      "50/160 - Loss: 0.7283\n",
      "51/160 - Loss: 0.7183\n",
      "52/160 - Loss: 0.7184\n",
      "53/160 - Loss: 0.7044\n",
      "54/160 - Loss: 0.7122\n",
      "55/160 - Loss: 0.7042\n",
      "56/160 - Loss: 0.7010\n",
      "57/160 - Loss: 0.7035\n",
      "58/160 - Loss: 0.6954\n",
      "59/160 - Loss: 0.6923\n",
      "60/160 - Loss: 0.6856\n",
      "61/160 - Loss: 0.6826\n",
      "62/160 - Loss: 0.6806\n",
      "63/160 - Loss: 0.6708\n",
      "64/160 - Loss: 0.6697\n",
      "65/160 - Loss: 0.6677\n",
      "66/160 - Loss: 0.6648\n",
      "67/160 - Loss: 0.6675\n",
      "68/160 - Loss: 0.6624\n",
      "69/160 - Loss: 0.6569\n",
      "70/160 - Loss: 0.6540\n",
      "71/160 - Loss: 0.6531\n",
      "72/160 - Loss: 0.6471\n",
      "73/160 - Loss: 0.6445\n",
      "74/160 - Loss: 0.6376\n",
      "75/160 - Loss: 0.6418\n",
      "76/160 - Loss: 0.6388\n",
      "77/160 - Loss: 0.6305\n",
      "78/160 - Loss: 0.6357\n",
      "79/160 - Loss: 0.6322\n",
      "80/160 - Loss: 0.6227\n",
      "81/160 - Loss: 0.6195\n",
      "82/160 - Loss: 0.6193\n",
      "83/160 - Loss: 0.6162\n",
      "84/160 - Loss: 0.6133\n",
      "85/160 - Loss: 0.6108\n",
      "86/160 - Loss: 0.6110\n",
      "87/160 - Loss: 0.6048\n",
      "88/160 - Loss: 0.6033\n",
      "89/160 - Loss: 0.6034\n",
      "90/160 - Loss: 0.6068\n",
      "91/160 - Loss: 0.5991\n",
      "92/160 - Loss: 0.5967\n",
      "93/160 - Loss: 0.5903\n",
      "94/160 - Loss: 0.5929\n",
      "95/160 - Loss: 0.5888\n",
      "96/160 - Loss: 0.5838\n",
      "97/160 - Loss: 0.5877\n",
      "98/160 - Loss: 0.5867\n",
      "99/160 - Loss: 0.5790\n",
      "100/160 - Loss: 0.5776\n",
      "101/160 - Loss: 0.5795\n",
      "102/160 - Loss: 0.4904\n",
      "103/160 - Loss: 0.4635\n",
      "104/160 - Loss: 0.4558\n",
      "105/160 - Loss: 0.4444\n",
      "106/160 - Loss: 0.4431\n",
      "107/160 - Loss: 0.4347\n",
      "108/160 - Loss: 0.4337\n",
      "109/160 - Loss: 0.4354\n",
      "110/160 - Loss: 0.4270\n",
      "111/160 - Loss: 0.4216\n",
      "112/160 - Loss: 0.4210\n",
      "113/160 - Loss: 0.4249\n",
      "114/160 - Loss: 0.4176\n",
      "115/160 - Loss: 0.4188\n",
      "116/160 - Loss: 0.4145\n",
      "117/160 - Loss: 0.4164\n",
      "118/160 - Loss: 0.4100\n",
      "119/160 - Loss: 0.4084\n",
      "120/160 - Loss: 0.4047\n",
      "121/160 - Loss: 0.4078\n",
      "122/160 - Loss: 0.4056\n",
      "123/160 - Loss: 0.4053\n",
      "124/160 - Loss: 0.3999\n",
      "125/160 - Loss: 0.3991\n",
      "126/160 - Loss: 0.4003\n",
      "127/160 - Loss: 0.3925\n",
      "128/160 - Loss: 0.3996\n",
      "129/160 - Loss: 0.3970\n",
      "130/160 - Loss: 0.3924\n",
      "131/160 - Loss: 0.3922\n",
      "132/160 - Loss: 0.3899\n",
      "133/160 - Loss: 0.3895\n",
      "134/160 - Loss: 0.3901\n",
      "135/160 - Loss: 0.3858\n",
      "136/160 - Loss: 0.3853\n",
      "137/160 - Loss: 0.3848\n",
      "138/160 - Loss: 0.3840\n",
      "139/160 - Loss: 0.3862\n",
      "140/160 - Loss: 0.3829\n",
      "141/160 - Loss: 0.3824\n",
      "142/160 - Loss: 0.3809\n",
      "143/160 - Loss: 0.3771\n",
      "144/160 - Loss: 0.3797\n",
      "145/160 - Loss: 0.3785\n",
      "146/160 - Loss: 0.3808\n",
      "147/160 - Loss: 0.3745\n",
      "148/160 - Loss: 0.3752\n",
      "149/160 - Loss: 0.3730\n",
      "150/160 - Loss: 0.3771\n",
      "151/160 - Loss: 0.3707\n",
      "152/160 - Loss: 0.3603\n",
      "153/160 - Loss: 0.3579\n",
      "154/160 - Loss: 0.3584\n",
      "155/160 - Loss: 0.3582\n",
      "156/160 - Loss: 0.3602\n",
      "157/160 - Loss: 0.3570\n",
      "158/160 - Loss: 0.3543\n",
      "159/160 - Loss: 0.3581\n",
      "160/160 - Loss: 0.3544\n"
     ]
    }
   ],
   "execution_count": 13
  },
  {
   "metadata": {
    "ExecuteTime": {
     "end_time": "2024-12-13T11:56:20.513820Z",
     "start_time": "2024-12-13T11:56:20.173508Z"
    }
   },
   "cell_type": "code",
   "source": [
    "plt.ion()\n",
    "\n",
    "def visualize_model(model, num_images=6):\n",
    "    model.eval()\n",
    "    images_so_far = 0\n",
    "    fig = plt.figure()\n",
    "\n",
    "    with torch.no_grad():\n",
    "        for i, (inputs, labels) in enumerate(test_loader):\n",
    "            inputs = inputs.to(device)\n",
    "\n",
    "            outputs = model(inputs)\n",
    "            _, preds = torch.max(outputs, 1)\n",
    "\n",
    "            for j in range(inputs.size(0)):\n",
    "                images_so_far += 1\n",
    "                ax = plt.subplot(num_images // 2, 2, images_so_far)\n",
    "                ax.axis('off')\n",
    "                ax.set_title(f'Predicted: {train_dataset.classes[preds[j]]}')\n",
    "\n",
    "                img = inputs[j].cpu().numpy().transpose((1, 2, 0))  # Zmiana z [C, H, W] na [H, W, C]\n",
    "                img = (img - img.min()) / (img.max() - img.min())  # Normalizacja do zakresu [0, 1]\n",
    "                plt.imshow(img)\n",
    "\n",
    "                if images_so_far == num_images:\n",
    "                    plt.show()\n",
    "                    return\n",
    "                \n",
    "visualize_model(best_model)"
   ],
   "id": "834ebcb0590e97b9",
   "outputs": [
    {
     "data": {
      "text/plain": [
       "<Figure size 640x480 with 6 Axes>"
      ],
      "image/png": "[encoded data removed]"
     },
     "metadata": {},
     "output_type": "display_data"
    }
   ],
   "execution_count": 18
  },
  {
   "metadata": {
    "ExecuteTime": {
     "end_time": "2024-12-13T11:52:54.037818Z",
     "start_time": "2024-12-13T11:52:42.907756Z"
    }
   },
   "cell_type": "code",
   "source": [
    "class_correct = list(0. for _ in range(10))\n",
    "class_total = list(0. for _ in range(10))\n",
    "\n",
    "with torch.no_grad():\n",
    "    for X_test_batch, y_test_batch in test_loader:\n",
    "        outputs = best_model(X_test_batch.to(device))\n",
    "        _, predicted = torch.max(outputs, 1)\n",
    "        c = (predicted == y_test_batch.to(device)).squeeze()\n",
    "\n",
    "        for i in range(y_test_batch.size(0)):\n",
    "            label = y_test_batch[i]\n",
    "            class_correct[label] += c[i].item()\n",
    "            class_total[label] += 1\n",
    "\n",
    "for i in range(10):\n",
    "    accuracy = 100 * class_correct[i] / class_total[i]\n",
    "    print(f'Accuracy of {train_dataset.classes[i]}: {accuracy}%')"
   ],
   "id": "2c6fb2a29fd6913",
   "outputs": [
    {
     "name": "stdout",
     "output_type": "stream",
     "text": [
      "Accuracy of airplane: 81.0%\n",
      "Accuracy of automobile: 87.9%\n",
      "Accuracy of bird: 69.8%\n",
      "Accuracy of cat: 60.7%\n",
      "Accuracy of deer: 74.8%\n",
      "Accuracy of dog: 69.3%\n",
      "Accuracy of frog: 83.6%\n",
      "Accuracy of horse: 82.4%\n",
      "Accuracy of ship: 87.0%\n",
      "Accuracy of truck: 87.2%\n"
     ]
    }
   ],
   "execution_count": 15
  }
 ],
 "metadata": {
  "kernelspec": {
   "display_name": "Python 3",
   "language": "python",
   "name": "python3"
  },
  "language_info": {
   "codemirror_mode": {
    "name": "ipython",
    "version": 2
   },
   "file_extension": ".py",
   "mimetype": "text/x-python",
   "name": "python",
   "nbconvert_exporter": "python",
   "pygments_lexer": "ipython2",
   "version": "2.7.6"
  }
 },
 "nbformat": 4,
 "nbformat_minor": 5
}
